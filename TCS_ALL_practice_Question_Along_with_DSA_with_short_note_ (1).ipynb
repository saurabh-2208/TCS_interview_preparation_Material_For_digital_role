{
  "nbformat": 4,
  "nbformat_minor": 0,
  "metadata": {
    "colab": {
      "provenance": []
    },
    "kernelspec": {
      "name": "python3",
      "display_name": "Python 3"
    },
    "language_info": {
      "name": "python"
    }
  },
  "cells": [
    {
      "cell_type": "markdown",
      "source": [
        " ## Write a Program to Bubble Sort\n",
        "\n",
        " ### Time Complexity : worst_case O(n2)\n",
        "\n",
        " ### space complexity : O(1)\n",
        " Total Number of Swap per Pass: n-1\n",
        "\n",
        " Total Number of swap : n*(n-1)/2\n",
        "\n",
        " ## Algorithm Summary :\n",
        "\n",
        " * This algorithm sort the adjacent elements\n",
        "\n",
        " * This alorithm is not suitable for Large dataset due to high complexity\n",
        "\n",
        " * Can be prefer when we dont have care about Time complexity and memory cost is high\n",
        "\n",
        "\n",
        "\n"
      ],
      "metadata": {
        "id": "NaCRSq5QFFjg"
      }
    },
    {
      "cell_type": "code",
      "source": [
        "def bubblesort(arr):\n",
        "  for i in range (0,len(arr)):\n",
        "    for j in range (0,len(arr)-1-i):\n",
        "a\n",
        "      if arr[j]>rr[j+1]:\n",
        "        arr[j],arr[j+1]=arr[j+1],arr[j]\n",
        "  return arr\n",
        "\n",
        "bubblesort([10,20,4,1,4,2])"
      ],
      "metadata": {
        "colab": {
          "base_uri": "https://localhost:8080/"
        },
        "id": "ckPqdJosFEUk",
        "outputId": "b84c1b87-1dd6-42b6-cbe5-1bb88ddc605e"
      },
      "execution_count": null,
      "outputs": [
        {
          "output_type": "execute_result",
          "data": {
            "text/plain": [
              "[1, 2, 4, 4, 10, 20]"
            ]
          },
          "metadata": {},
          "execution_count": 2
        }
      ]
    },
    {
      "cell_type": "markdown",
      "source": [
        "## Write a program to the selection Sort :  \n",
        "\n",
        "Defination : Selection sort is sorting algorithm which sort the element by finding the minimum element in the array then it swap the element.\n",
        "\n",
        "* It is quite better than bubble sort because it total number of swap is  0(n) times\n",
        "* It is stable Algorithm (Order of the sequence is preserve)\n",
        "\n",
        "###  Time and space complexity:\n",
        "\n",
        "* Time Complexity for worst Case : O(n2)\n",
        "\n",
        "* Space Complexity :O(1)\n",
        "\n",
        "\n",
        "\n"
      ],
      "metadata": {
        "id": "v3h_ZDXiIGw1"
      }
    },
    {
      "cell_type": "code",
      "source": [
        "def Selection_sort(arr):\n",
        "  for i in range(len(arr)):\n",
        "    min_index=i\n",
        "    for j in range(i+1,len(arr)):\n",
        "      if arr[j]<arr[min_index]:\n",
        "        min_index=j\n",
        "    arr[i],arr[min_index]=arr[min_index],arr[i]\n",
        "  return arr\n",
        "\n",
        "\n",
        "\n",
        "Selection_sort([10,4,1,3,4])\n"
      ],
      "metadata": {
        "colab": {
          "base_uri": "https://localhost:8080/"
        },
        "id": "ooKm_Z4FHuJw",
        "outputId": "d3fbd049-265b-4016-d617-4fb7f6f8bd8a"
      },
      "execution_count": null,
      "outputs": [
        {
          "output_type": "execute_result",
          "data": {
            "text/plain": [
              "[1, 3, 4, 4, 10]"
            ]
          },
          "metadata": {},
          "execution_count": 10
        }
      ]
    },
    {
      "cell_type": "markdown",
      "source": [
        "Write a Program to Quick sort:\n",
        "\n",
        "** Quick sort is an sorting algorithm that use divide and conquer approach to solve the problems .It select the piviot form the array and compare the pivot elemnet with the array and then divide the array element into three  segment first :    \n",
        "          \n",
        "          * left_array: that contain the value less than the pivot\n",
        "          * Right_array: This array contain the value greater than the pivot\n",
        "          * middle_array:that contain the array equal to the pivot\n",
        "** This Algorithm is not sitable for Small dataset\n",
        "** It is not Stable Algorithm\n",
        "\n",
        "\n",
        " ### Time and space complexity of the Quick sort:\n",
        "\n",
        "^ Time Complexity:\n",
        "\n",
        "      * Best case      : O(N log(N))\n",
        "      * Average case y : O(N log(N))\n",
        "      * Worst case     : O(N2)\n",
        "\n",
        "\n",
        "^ Space Complexity :    \n",
        "\n",
        "     * Auxiallary Space : O(1)\n",
        "     * Worst case       : O(N)\n",
        "\n",
        "\n",
        "\n",
        "We can implement this algorithm using two Approaches:     \n",
        "\n",
        "   * Using List comprension\n",
        "   * in -place Quick Sort\n",
        "\n",
        "\n",
        "\n"
      ],
      "metadata": {
        "id": "542QD8EQMjtl"
      }
    },
    {
      "cell_type": "code",
      "source": [
        "# Using List comprension\n",
        "\n",
        "def Quick_sort(arr):\n",
        "  if len(arr)<=1:\n",
        "    return arr\n",
        "  pivot=arr[0]\n",
        "\n",
        "  left_array=[i for i in arr if i<pivot]\n",
        "  right_array=[i for i in arr if i>pivot]\n",
        "  middle_array=[i for i  in arr if i==pivot]\n",
        "\n",
        "  return Quick_sort(left_array)+middle_array+Quick_sort(right_array)\n",
        "\n",
        "\n",
        "Quick_sort([1,10,2,4,11])"
      ],
      "metadata": {
        "colab": {
          "base_uri": "https://localhost:8080/"
        },
        "id": "S6tnw8wzTf8G",
        "outputId": "a8be030b-0da5-4d97-acce-a9cb28500123"
      },
      "execution_count": null,
      "outputs": [
        {
          "output_type": "execute_result",
          "data": {
            "text/plain": [
              "[1, 2, 4, 10, 11]"
            ]
          },
          "metadata": {},
          "execution_count": 12
        }
      ]
    },
    {
      "cell_type": "code",
      "source": [
        "# Qick Sort Using In Place\n",
        "\n",
        "\n",
        "def partition(arr,low,high):\n",
        "  pivot=arr[high]\n",
        "  i=low-1\n",
        "  for j in  range(low,high):\n",
        "    if arr[j]<pivot:\n",
        "      i+=1\n",
        "      arr[i],arr[j]=arr[j],arr[i]\n",
        "\n",
        "    # This place the pivot element at the last of the array\n",
        "  arr[i+1],arr[high]=arr[high],arr[i+1]\n",
        "\n",
        "    # this Function will return the partion elemnet\n",
        "  return i+1\n",
        "\n",
        "def Quick_sort(arr,low,high):\n",
        "  if low<high:\n",
        "    pi=partition(arr,low,high)\n",
        "    Quick_sort(arr,low,pi-1)\n",
        "    Quick_sort(arr,pi+1,high)\n",
        "\n",
        "\n",
        "arr=eval(input(\"ENter array elemnet \"))\n",
        "low=0\n",
        "high=(len(arr)-1)\n",
        "Quick_sort(arr,low,high)\n",
        "print (arr)\n",
        "\n",
        "\n",
        "\n"
      ],
      "metadata": {
        "id": "Tu2HRn37qxzt"
      },
      "execution_count": null,
      "outputs": []
    },
    {
      "cell_type": "markdown",
      "source": [
        "## merge Sort 🇰:   \n",
        "\n",
        "Defination : MergeSort is an simple sorting algorithm that works on the principle of divide and concqure approach it recursively partion array until we get the individual element is sorted then we merge it such a way that we get result as sorted array.\n",
        "* It is popular algorithm that is known for Efficiency and Stability.\n",
        "* This array works well for the large dataset.\n",
        "* It is an efficient Sorting Technique.\n",
        "* It can not be used where cost of the memory is high\n",
        "\n",
        "* It gives gaurrented performance when worst case also occure.\n",
        "\n",
        "\n",
        "## Time and Space COmplexity of the algorithm :     \n",
        "\n",
        "  ^ Time Complexity :    \n",
        "\n",
        "          * Best Case    : O(N log(N))\n",
        "          * Average Case : O(N log(N))\n",
        "          * Worst case   : O(N log(N))\n",
        "\n",
        "  ^ Space Complexity :     \n",
        "  \n",
        "          * Average case :   O(1)\n",
        "          * Worst case   :  O(N)\n",
        "\n",
        "\n",
        "\n",
        "  Additionaly space is reqire for temparory space is required during the merging\n",
        "\n",
        "\n",
        "  ^ Application of the Merge Sort :    \n",
        "\n",
        "\n",
        "        * Sorting the Large Dataset\n",
        "        * External Sorting\n",
        "        * Finding median of the large dataset\n",
        "\n",
        "\n",
        "\n",
        "        \n",
        "\n",
        "\n",
        "### How it works :    \n",
        "\n",
        "      * divide : Divide the array into len(arr) times\n",
        "      * concqure : trated the individual element as sorted\n",
        "      * Merge : merge the array in such a way that we get sorted array\n",
        "\n",
        "\n"
      ],
      "metadata": {
        "id": "BcqdvTuCU9og"
      }
    },
    {
      "cell_type": "code",
      "source": [
        "# define Partition function :\n",
        "\n",
        "\n",
        "\n",
        "def Merge_Sort(arr):\n",
        "  if len(arr)<=1:\n",
        "    return arr\n",
        "  mid=len(arr)//2\n",
        "  left_array=arr[:mid]\n",
        "  right_array=arr[mid:]\n",
        "\n",
        "  sorted_left_array=Merge_Sort(left_array)\n",
        "  sorted_right_array=Merge_Sort(right_array)\n",
        "\n",
        "  return merge(sorted_left_array,sorted_right_array)\n",
        "\n",
        "\n",
        "\n",
        "def merge(left_array,right_array):\n",
        "  sorted_array=[]\n",
        "  left_index=right_index=0\n",
        "  while left_index<len(left_array) and right_index<len(right_array):\n",
        "    if left_array[left_index]<right_array[right_index]:\n",
        "      sorted_array.append(left_array[left_index])\n",
        "      left_index +=1\n",
        "    else :\n",
        "      sorted_array.append(right_array[right_index])\n",
        "      right_index +=1\n",
        "  sorted_array.extend(left_array[left_index:])\n",
        "  sorted_array.extend(right_array[right_index:])\n",
        "\n",
        "  return sorted_array\n",
        "\n",
        "Merge_Sort([10,2,3,4,5,0])\n"
      ],
      "metadata": {
        "colab": {
          "base_uri": "https://localhost:8080/"
        },
        "id": "Syiwbuw3Zky7",
        "outputId": "a3017564-b85d-47a9-a30b-31a7c23b2561"
      },
      "execution_count": null,
      "outputs": [
        {
          "output_type": "execute_result",
          "data": {
            "text/plain": [
              "[0, 2, 3, 4, 5, 10]"
            ]
          },
          "metadata": {},
          "execution_count": 15
        }
      ]
    },
    {
      "cell_type": "markdown",
      "source": [
        "# Searching algorithm :  \n",
        "\n",
        "     * Defination of Searching Algorithm :\n",
        "\n",
        "          Searching algorithm are use search the index of the element of the array\n",
        "\n",
        "    1) Linear Search\n",
        "    2) Binary Search\n",
        "    "
      ],
      "metadata": {
        "id": "aNQfHqIExcYo"
      }
    },
    {
      "cell_type": "markdown",
      "source": [
        "## 1) Linear Search :    \n",
        "\n",
        "      Defination : It seach Element by iterating over the array linearly and compare the serch key with the element and return the location of the elemnt\n",
        "\n",
        "^ Time COmplexity :    \n",
        "\n",
        "  * best COmplexity:O(1)\n",
        "  * averge COmplexity :  O(N) it perfom n/2 times        operation but 1/2 is constant  hence O(N)\n",
        "  * Worst complexity is : O(N) It compare the element at n times\n",
        "^ Space COmplexity : It does not require any type of memory . It just iterate over the array.hence Space compLexity=O(1)  \n",
        "\n",
        "#### Advantage of Linear Search :\n",
        "\n",
        "      * Simple to implement and understand\n",
        "      * Works on unsorted data\n",
        "      * Applicable to various data structures\n",
        "\n",
        "\n",
        "#### Disadvantages of Linear Search :     \n",
        "\n",
        "      * In efficient for large datasets\n",
        "      * Not the fastest search algorithm\n",
        "\n",
        "\n",
        "\n",
        "#### Application of the Linear search:    \n",
        "\n",
        "    * Single-pass search scenarios\n",
        "    * Finding duplicates\n",
        "    * Small datasets\n",
        "    * Unsorted data\n",
        "\n",
        "\n",
        "\n",
        "\n",
        "\n"
      ],
      "metadata": {
        "id": "k_kNYNWGyNBu"
      }
    },
    {
      "cell_type": "code",
      "source": [
        "from re import I\n",
        "# Implemnetation of the Linear Search\n",
        "\n",
        "\n",
        "def Linear_search(arr,key):\n",
        "  for i in range(len(arr)):\n",
        "    if arr[i]==key:\n",
        "      return i\n",
        "  print (\"Search Key is not Found \")\n",
        "  return -1\n",
        "\n",
        "\n",
        "arr=eval(input(\"Enter the array element \"))\n",
        "\n",
        "search_key=int(input(\"Enter search key\"))\n",
        "\n",
        "print(\"Search key is fount at index :\",Linear_search(arr,search_key))"
      ],
      "metadata": {
        "colab": {
          "base_uri": "https://localhost:8080/"
        },
        "id": "LoRwamCbyJrp",
        "outputId": "063c2995-07f3-433c-a474-4573a5eeb8a9"
      },
      "execution_count": null,
      "outputs": [
        {
          "output_type": "stream",
          "name": "stdout",
          "text": [
            "Enter the array element [10,20,30,40,50]\n",
            "Enter search key50\n",
            "Search key is fount at index : 4\n"
          ]
        }
      ]
    },
    {
      "cell_type": "markdown",
      "source": [
        "## 2) Binary Search Algorithm :    \n",
        "\n",
        "Defination : It is simple seaching algorithm .This algorithm is only works when we are having sorted data It finds the mid of the array and then compare the mid with the search key if search key is equal to the mid then returns the mid elseif mid is less than seach key then it update the right to the mid-1 elif  seach key is greater then it update the left to the mid+1\n",
        "\n",
        "\n",
        "\n",
        "Complexity of the Binary search:  \n",
        "\n",
        "^ Time COmplexity :    \n",
        "      * Best case          :   O(1)\n",
        "      * Average complexity :   O(N log (N))\n",
        "      * Worst case         :   O(N) // Loop will be executed until the len(aar)//2\n",
        "^ Space complexity : O(1)\n",
        "\n",
        "\n",
        "#### Advantages of Binary Search :     \n",
        "\n",
        "      * It is efficient than the Linear search beacause it iterate over the array by len(arr)//2 times This is maximum case time complexity\n",
        "      * Simplicity and Implementation\n",
        "\n",
        "#### Disadvantages of the Binary Search :    \n",
        "\n",
        "\n",
        "        * It require to be sorted\n",
        "        * Recursive Overhead: In the recursive implementation, there is additional overhead due to recursive function calls, which can be a disadvantage for very large datasets or systems with limited stack memory\n",
        "\n",
        "#### Application Binary search :     \n",
        "\n",
        "      * Finding Elements in a Sorted Array\n",
        "      * Database Indexing: Databases often use binary search or its variants to quickly locate records in sorted indexes.\n",
        "      * Search Engines: Binary search can be used in search engines for efficiently retrieving data from large, sorted datasets.\n",
        "      \n"
      ],
      "metadata": {
        "id": "MQ23qOYL4YZI"
      }
    },
    {
      "cell_type": "code",
      "source": [
        "# Binary Search Implementation\n",
        "\n",
        "\n",
        "def Binary_search(arr,key,low,high):\n",
        "  if low>high:\n",
        "    return -1\n",
        "\n",
        "  mid =(low+high)//2\n",
        "  if arr[mid]==key:\n",
        "    return mid\n",
        "  elif arr[mid]>key:\n",
        "    high=mid-1\n",
        "    return Binary_search(arr,key,low,high)\n",
        "\n",
        "  else:\n",
        "    low=mid+1\n",
        "    return Binary_search(arr,key,low,high)\n",
        "  return -1\n",
        "\n",
        "\n",
        "arr=eval(input(\"Enter sorted array element\"))\n",
        "key=int(input(\"Enter search key\"))\n",
        "index=Binary_search(arr,key,0,len(arr)-1)\n",
        "if index !=-1:\n",
        "  print(f\"element is found at index {index}\")\n",
        "else:\n",
        "    print(\"Enter search key is not present in array\")\n"
      ],
      "metadata": {
        "colab": {
          "base_uri": "https://localhost:8080/"
        },
        "id": "HZ4FPiwm9lzc",
        "outputId": "6e3f5a53-1318-4c93-ce89-170c9ed7c303"
      },
      "execution_count": null,
      "outputs": [
        {
          "output_type": "stream",
          "name": "stdout",
          "text": [
            "Enter sorted array element[10,30,40]\n",
            "Enter search key40\n",
            "element is found at index 2\n"
          ]
        }
      ]
    },
    {
      "cell_type": "markdown",
      "source": [
        "## Stack Data Structure :    \n",
        "\n",
        "\n",
        " 1)  Defination :  Stack is Linear Data Structure which store data in contineous memory allocation .\n",
        "  2) It follows Last in First Out principle (LIFO).\n",
        " 3)   LIFO implies that the element that is inserted last, comes out first and FILO implies that the element that is inserted first, comes out last.\n",
        "\n",
        "\n",
        "#### Key Operations on Stack Data Structures\n",
        "1) Push: Adds an element to the top of the stack.\n",
        "2) Pop: Removes the top element from the stack.\n",
        "3_ Peek: Returns the top element without removing it.\n",
        "4) IsEmpty: Checks if the stack is empty.\n",
        "5) IsFull: Checks if the stack is full (in case of    fixed-size arrays).\n",
        "\n",
        "\n",
        "#### Application of Stack :   \n",
        "\n",
        "  * Recursion\n",
        "  * Expression Evaluation and Parsing\n",
        "  * Depth-First Search (DFS)\n",
        "  * Undo/Redo Operations\n",
        "  * Browser History\n",
        "  * Function Calls\n",
        "\n",
        "\n",
        "\n",
        "* Real World Example of stack :    \n",
        "\n",
        "    * A stack of plates: we add and remove plates from the top.\n",
        "### Time and Space complexity :    \n",
        "* Time Complexity:\n",
        "    * Push: O(1)\n",
        "    * Pop: O(1)\n",
        "    * Peek: O(1)\n",
        "    \n",
        "* Space complexity :    \n",
        "\n",
        "    Space complexity =O(N) times\n",
        "\n",
        "\n",
        "   \n",
        "\n",
        "\n"
      ],
      "metadata": {
        "id": "-IBToyoLCxPs"
      }
    },
    {
      "cell_type": "code",
      "source": [
        "class stack:\n",
        "  def __init__(self,size):\n",
        "    self.stack1=[]\n",
        "    self.size=size\n",
        "  def isfull(self):\n",
        "    return len(self.stack1)==self.size\n",
        "\n",
        "  def isempty(self):\n",
        "    return len(self.stack1)==0\n",
        "\n",
        "  # This function insert element at the last of the stack\n",
        "  def push(self,element):\n",
        "    if self.isfull():\n",
        "      print(\"stack is Full Element cannot be inserted \")\n",
        "    else :\n",
        "      self.stack1.append(element)\n",
        "      return self.stack1\n",
        "\n",
        "  # this function remove the last element of the stack\n",
        "  def pop(self):\n",
        "    if self.isempty():\n",
        "      print(\"Stack is empty\")\n",
        "    else:\n",
        "      self.stack1.pop()\n",
        "      return self.stack1\n",
        "\n",
        "  # this function select the first elemnet of the stack\n",
        "  def peek(self):\n",
        "    return self.stack1[-1]\n",
        "\n",
        "\n",
        "size=int(input(\"Enter the size of the stack\"))\n",
        "stack11=stack(size)\n",
        "stack11.push(10)\n",
        "stack11.push(20)\n",
        "stack11.push(30)\n",
        "stack11.push(40)\n",
        "\n",
        "\n",
        "stack11.pop()\n",
        "stack11.pop()\n",
        "\n",
        "stack11.peek()\n",
        "print(stack11.stack1)\n"
      ],
      "metadata": {
        "colab": {
          "base_uri": "https://localhost:8080/"
        },
        "id": "O7MBlMqufayH",
        "outputId": "9c144c04-81e9-49a3-81e0-3494dd79c0dc"
      },
      "execution_count": null,
      "outputs": [
        {
          "output_type": "stream",
          "name": "stdout",
          "text": [
            "Enter the size of the stack6\n",
            "[10, 20]\n"
          ]
        }
      ]
    },
    {
      "cell_type": "markdown",
      "source": [
        "## Queue Data Structure :     \n",
        "\n",
        "\n",
        " * Defination : Queueue is Linear data structure that  \n",
        "   store data in contineous memory allocation .\n",
        " * It has two end Front and rear :    \n",
        "\n",
        "      * Front : From front elemnet is removed\n",
        "      * Rear  : From rear Element is added to the queue\n",
        "\n",
        "### Basic Operations of Queue Data Structure\n",
        "* Enqueue (Insert): Adds an element to the rear of the queue.\n",
        "* Dequeue (Delete): Removes and returns the element from the front of the queue.\n",
        "* Peek: Returns the element at the front of the queue without removing it.\n",
        "* Empty: Checks if the queue is empty.\n",
        "* Full: Checks if the queue is full.\n",
        "\n",
        "\n",
        "### Applications of Queue\n",
        "* Task scheduling in operating systems\n",
        "* Data transfer in network communication\n",
        "* Simulation of real-world systems (e.g., waiting lines)\n",
        "* Priority queues for event processing queues for event processing\n",
        "\n",
        "\n",
        "\n",
        "### Time and space complexity of the Queue:\n",
        "\n",
        "* Time Complexity:\n",
        "\n",
        "   * Enqueue (enqueue): O(1)\n",
        "   * Dequeue (dequeue): O(1)\n",
        "   * Peek (peek): O(1)\n",
        "\n",
        "* Space Complexity:  O(n), where n is the number of elements in the queue.\n",
        "    \n"
      ],
      "metadata": {
        "id": "VV2CqXF8lySa"
      }
    },
    {
      "cell_type": "code",
      "source": [
        "class Queue:\n",
        "  def __init__(self,size):\n",
        "    self.queue=[]\n",
        "    self.front=self.rear=0\n",
        "    self.size=size\n",
        "\n",
        "    # this function check Whether queue is full or not\n",
        "  def queueisFull(self):\n",
        "    return len(self.queue)==self.size\n",
        "\n",
        "    # this function check whether queue is empty or not\n",
        "  def queueIsEmpty(self):\n",
        "    return len(self.queue)==0\n",
        "\n",
        "    # This function insert the elemnet in the queue\n",
        "  def enqueue(self,element):\n",
        "    if self.queueisFull():\n",
        "      print(\"Print Queue is Full\")\n",
        "\n",
        "    else :\n",
        "      self.queue.append(element)\n",
        "      self.rear +=1\n",
        "      return self.queue\n",
        "\n",
        "      # This function remove element from the queue\n",
        "  def dequeue(self):\n",
        "    if self.queueIsEmpty():\n",
        "      print(\"Queue is Empty\")\n",
        "    else :\n",
        "      self.queue.pop(0)\n",
        "      self.rear -=1\n",
        "      return self.queue\n",
        "\n",
        "# This function return the next element to remove in queue\n",
        "\n",
        "  def peek(self):\n",
        "    if self.queueIsEmpty():\n",
        "      print(\"Queue is empty\")\n",
        "    return self.queue[0]\n",
        "\n",
        "\n",
        "size=int(input(\"Enter the size of the queue \"))\n",
        "queue1=Queue(size)\n",
        "queue1.enqueue(10)\n",
        "queue1.enqueue(20)\n",
        "queue1.enqueue(30)\n",
        "queue1.enqueue(40)\n",
        "\n",
        "print(\"Original Queue is : \", queue1.queue)\n",
        "\n",
        "queue1.dequeue()\n",
        "print(\"Original Queue after dequeue method  : \", queue1.queue)\n",
        "print(queue1.queue)\n",
        "queue1.dequeue()\n",
        "\n",
        "print()\n",
        "print(\"Original Queue after dequeue method  : \", queue1.queue)\n",
        "print(queue1.queue)\n",
        "print(queue1.peek())\n",
        "\n"
      ],
      "metadata": {
        "colab": {
          "base_uri": "https://localhost:8080/"
        },
        "id": "sswn-hIso6gk",
        "outputId": "dad10c04-7d1e-4a0b-f39c-57bad2a9ffdb"
      },
      "execution_count": null,
      "outputs": [
        {
          "output_type": "stream",
          "name": "stdout",
          "text": [
            "Enter the size of the queue 7\n",
            "Original Queue is :  [10, 20, 30, 40]\n",
            "Original Queue after dequeue method  :  [20, 30, 40]\n",
            "[20, 30, 40]\n",
            "\n",
            "Original Queue after dequeue method  :  [30, 40]\n",
            "[30, 40]\n",
            "30\n"
          ]
        }
      ]
    },
    {
      "cell_type": "markdown",
      "source": [
        "## Linked List Data Structure :     \n",
        "\n",
        "* defination of Linked List:\n",
        "\n",
        "    * Linked List is a linear data structure which looks like a series of nodes, where each node has two parts: data and next pointer.\n",
        "\n",
        "    * Unlike Arrays, Linked List elements are not stored at a contiguous location.\n",
        "\n",
        "    * In the linked list there is a head pointer, which points to the first element of the linked list, and if the list is empty then it simply points to null or nothing.\n",
        "\n",
        "\n",
        "\n",
        "### Basic Terminologies of Linked List:\n",
        "\n",
        "\n",
        " * Head: The Head of a linked list is a pointer to the first node or reference of the first node of linked list. This pointer marks the beginning of the linked list.\n",
        "* Node: Linked List consists of a series of nodes where each node has two parts: data and next pointer.\n",
        "* Data: Data is the part of node which stores the information in the linked list.\n",
        "* Next pointer: Next pointer is the part of the node which points to the next node of the linked list.\n",
        "\n",
        "\n",
        "## Importance of the LinkedList:\n",
        "\n",
        "* Dynamic Data structure: The size of memory can be allocated or de-allocated at run time based on the operation insertion or deletion.\n",
        "* Ease of Insertion/Deletion: The insertion and deletion of elements are simpler than arrays since no elements need to be shifted after insertion and deletion, Just the address needed to be updated.\n",
        "* Efficient Memory Utilization: As we know Linked List is a dynamic data structure the size increases or decreases as per the requirement so this avoids the wastage of memory.\n",
        "* Implementation: Various advanced data structures can be implemented using a linked list like a stack, queue, graph, hash maps, etc.\n",
        "\n",
        "\n",
        "### Operations on Singly Linked List:\n",
        "\n",
        "* Insertion: The insertion operation can be performed in three ways. They are as follows…\n",
        "    * Inserting At the Beginning of the list\n",
        "    * Inserting At End of the list\n",
        "    * Inserting At Specific location in the list\n",
        "* Deletion: The deletion operation can be performed in\n",
        "  three ways. They are as follows…\n",
        " * Deleting from the Beginning of the list\n",
        " * Deleting from the End of the list\n",
        " *  Deleting a Specific Node\n",
        "\n",
        "\n",
        "* Search: It is a process of determining and retrieving a specific node either from the front, the end or anywhere in the list.\n",
        "* Display: This process displays the elements of a Single-linked list.\n",
        "\n",
        "\n",
        "### Advantages of Linked Lists:\n",
        "\n",
        "  * Dynamic size:\n",
        "  * Efficient Insertion and Deletion : O(N) time complexity\n",
        "  * Memory Efficiency\n",
        "\n",
        "### Disadvantages of Linked List:\n",
        "\n",
        "    * Slow Access Time\n",
        "    * Pointers\n",
        "    * Extra memory required\n",
        "### Application of LinkedList :\n",
        "\n",
        "   * The list of songs in the music player are linked to the previous and next songs.\n",
        "   * In a web browser, previous and next web page URLs are linked through the previous and next buttons.\n",
        "   * In image viewer, the previous and next images are linked with the help of the previous and next buttons.\n",
        "\n",
        "\n"
      ],
      "metadata": {
        "id": "7ZrXshIo9Alu"
      }
    },
    {
      "cell_type": "code",
      "source": [
        "class Node:\n",
        "    def __init__(self, data):\n",
        "        self.data = data\n",
        "        self.next = None\n",
        "\n",
        "class LinkedList:\n",
        "    def __init__(self):\n",
        "        self.head = None\n",
        "\n",
        "    def InsertElementAtBegining(self, data):\n",
        "        new_Node = Node(data)\n",
        "        new_Node.next = self.head\n",
        "        self.head = new_Node\n",
        "\n",
        "    def InsertElementAtEnd(self, data):\n",
        "        new_node = Node(data)\n",
        "        if self.head is None:\n",
        "            self.head = new_node\n",
        "            return\n",
        "        current = self.head\n",
        "        while current.next:\n",
        "            current = current.next\n",
        "        current.next = new_node\n",
        "\n",
        "    def TraverseLinkedList(self):\n",
        "        current = self.head\n",
        "        while current:\n",
        "            print(current.data, end=\"->\")\n",
        "            current = current.next\n",
        "        print(\"None\")\n",
        "\n",
        "    def FindtheMidOffLinkedList(self):\n",
        "        slow = self.head\n",
        "        fast = self.head\n",
        "        while fast and fast.next:\n",
        "            slow = slow.next\n",
        "            fast = fast.next.next\n",
        "        return slow\n",
        "\n",
        "    def FindMiddleValueOfLinkedList_using_list(self):\n",
        "        current = self.head\n",
        "        arr = []\n",
        "        while current:\n",
        "            arr.append(current)\n",
        "            current = current.next\n",
        "        if not arr:\n",
        "            return None\n",
        "        return arr[(len(arr) - 1) // 2]\n",
        "\n",
        "    def InsertElementAtMiddle(self, data):\n",
        "        new_node = Node(data)\n",
        "        if self.head is None:\n",
        "            self.head = new_node\n",
        "            return\n",
        "        middle_node=FindMiddleValueOfLinkedList_using_list()\n",
        "        new_node.next = middle_node.next\n",
        "        middle_node.next = new_node\n",
        "\n",
        "    def InsertElementAtspecifiedPosition(self, data, position):\n",
        "        new_node = Node(data)\n",
        "        if position < 0:\n",
        "            return \"Position Invalid\"\n",
        "        if position == 0:\n",
        "            self.InsertElementAtBegining(data)\n",
        "            return\n",
        "        current = self.head\n",
        "        count = 0\n",
        "        while current is not None and count < position - 1:\n",
        "            current = current.next\n",
        "            count += 1\n",
        "        if current is None:\n",
        "            return \"Invalid Position\"\n",
        "        new_node.next = current.next\n",
        "        current.next = new_node\n",
        "\n",
        "    def RemoveElementFrom_begining(self):\n",
        "        if self.head is None:\n",
        "            return\n",
        "        self.head = self.head.next\n",
        "\n",
        "    def removeElementfrom_last(self):\n",
        "        if self.head is None:\n",
        "            return\n",
        "        if self.head.next is None:\n",
        "            self.head = None\n",
        "            return\n",
        "        current = self.head\n",
        "        while current.next.next:\n",
        "            current = current.next\n",
        "        current.next = None\n",
        "\n",
        "    def RemoveElementfromLinkedlist_by_specified_pos(self, position):\n",
        "        if self.head is None:\n",
        "            return\n",
        "        if position == 0:\n",
        "            self.head = self.head.next\n",
        "            return\n",
        "        current = self.head\n",
        "        count = 0\n",
        "        while current is not None and count < position - 1:\n",
        "            current = current.next\n",
        "            count += 1\n",
        "        if current is None or current.next is None:\n",
        "            return \"Invalid Position\"\n",
        "        current.next = current.next.next\n",
        "\n",
        "# Test the LinkedList\n",
        "linkedList1 = LinkedList()\n",
        "linkedList1.InsertElementAtBegining(1)\n",
        "linkedList1.InsertElementAtBegining(2)\n",
        "linkedList1.InsertElementAtBegining(3)\n",
        "linkedList1.InsertElementAtBegining(4)\n",
        "linkedList1.InsertElementAtBegining(5)\n",
        "linkedList1.InsertElementAtBegining(6)\n",
        "\n",
        "print(\"Linked List Elements are:\")\n",
        "linkedList1.TraverseLinkedList()\n",
        "\n",
        "linkedList1.InsertElementAtEnd(7)\n",
        "linkedList1.InsertElementAtEnd(8)\n",
        "\n",
        "print(\"Linked List Elements after adding at the end:\")\n",
        "linkedList1.TraverseLinkedList()\n",
        "\n",
        "# Insert node at the middle\n",
        "linkedList1.InsertElementAtMiddle(9)\n",
        "print(\"Linked List Elements after adding at the middle:\")\n",
        "linkedList1.TraverseLinkedList()\n",
        "\n",
        "# Insert node at a specified position\n",
        "linkedList1.InsertElementAtspecifiedPosition(10, 2)\n",
        "print(\"Linked List Elements after adding at specified position (index 2):\")\n",
        "linkedList1.TraverseLinkedList()\n",
        "\n",
        "# Remove element from the beginning\n",
        "linkedList1.RemoveElementFrom_begining()\n",
        "print(\"Linked List Elements after removing from the beginning:\")\n",
        "linkedList1.TraverseLinkedList()\n",
        "\n",
        "# Remove element from the end\n",
        "linkedList1.removeElementfrom_last()\n",
        "print(\"Linked List Elements after removing from the end:\")\n",
        "linkedList1.TraverseLinkedList()\n",
        "\n",
        "# Remove element from a specified position\n",
        "linkedList1.RemoveElementfromLinkedlist_by_specified_pos(2)\n",
        "print(\"Linked List Elements after removing from specified position (index 2):\")\n",
        "linkedList1.TraverseLinkedList()\n"
      ],
      "metadata": {
        "id": "LVUjSo6BBOil",
        "colab": {
          "base_uri": "https://localhost:8080/"
        },
        "outputId": "6d856dba-4d28-484d-8541-b673c5130e1e"
      },
      "execution_count": null,
      "outputs": [
        {
          "output_type": "stream",
          "name": "stdout",
          "text": [
            "Linked List Elements are:\n",
            "6->5->4->3->2->1->None\n",
            "Linked List Elements after adding at the end:\n",
            "6->5->4->3->2->1->7->8->None\n",
            "Linked List Elements after adding at the middle:\n",
            "6->5->4->3->9->2->1->7->8->None\n",
            "Linked List Elements after adding at specified position (index 2):\n",
            "6->5->10->4->3->9->2->1->7->8->None\n",
            "Linked List Elements after removing from the beginning:\n",
            "5->10->4->3->9->2->1->7->8->None\n",
            "Linked List Elements after removing from the end:\n",
            "5->10->4->3->9->2->1->7->None\n",
            "Linked List Elements after removing from specified position (index 2):\n",
            "5->10->3->9->2->1->7->None\n"
          ]
        }
      ]
    },
    {
      "cell_type": "markdown",
      "source": [
        "# Basic Program :    \n",
        "\n",
        "\n",
        "### 1) Write a programe to find the square root of a number\n",
        "\n"
      ],
      "metadata": {
        "id": "43NOZ3guSWOx"
      }
    },
    {
      "cell_type": "code",
      "source": [
        "# use exponential operator\n",
        "def squart1(num):\n",
        "    return num ** 0.5\n",
        "\n",
        "# or\n",
        "\n",
        "import math\n",
        "def squart2(num):\n",
        "  return math.sqrt(num)\n",
        "\n",
        "print(squart1(4))\n",
        "\n",
        "print(squart2(16))\n",
        "\n",
        "print(squart1(-16))"
      ],
      "metadata": {
        "colab": {
          "base_uri": "https://localhost:8080/"
        },
        "id": "cmYvsTC7SnAc",
        "outputId": "04e764b9-c7a6-45ea-e458-9041b903f96b"
      },
      "execution_count": null,
      "outputs": [
        {
          "output_type": "stream",
          "name": "stdout",
          "text": [
            "2.0\n",
            "4.0\n",
            "(-2.4492935982947064e-16-4j)\n"
          ]
        }
      ]
    },
    {
      "cell_type": "markdown",
      "source": [
        "2 ) How to find the cube root of the number"
      ],
      "metadata": {
        "id": "B3LqVGjvU7b0"
      }
    },
    {
      "cell_type": "code",
      "source": [
        "def Cuberoot(num):\n",
        "  return num **(1/3)\n",
        "\n",
        "Cuberoot(27)"
      ],
      "metadata": {
        "colab": {
          "base_uri": "https://localhost:8080/"
        },
        "id": "uXRx6onVVCvi",
        "outputId": "321f7471-03cb-4787-ec50-984642c012d8"
      },
      "execution_count": null,
      "outputs": [
        {
          "output_type": "execute_result",
          "data": {
            "text/plain": [
              "3.0"
            ]
          },
          "metadata": {},
          "execution_count": 18
        }
      ]
    },
    {
      "cell_type": "markdown",
      "source": [
        "###3)  Count the number of occurances of each character in a given String\n"
      ],
      "metadata": {
        "id": "Xuk50Fr4Wq3o"
      }
    },
    {
      "cell_type": "code",
      "source": [
        "def count_char_occurences(str1):\n",
        "  char_count={}\n",
        "  for i in str1:\n",
        "    if i in char_count:\n",
        "      char_count[i] +=1\n",
        "    else :\n",
        "      char_count[i]=1\n",
        "  return char_count\n",
        "str1=input(\"Enter the String\")\n",
        "char_count=count_char_occurences(str1)\n",
        "print(\"printing count of the character in sorted order of character\")\n",
        "\n",
        "for i in sorted(char_count.keys()):\n",
        "  print(i,\" : \",char_count[i])\n"
      ],
      "metadata": {
        "colab": {
          "base_uri": "https://localhost:8080/"
        },
        "id": "wPvp6z7rWtkq",
        "outputId": "0295132c-ee17-4f6d-f9eb-85b6727b6ba8"
      },
      "execution_count": null,
      "outputs": [
        {
          "output_type": "stream",
          "name": "stdout",
          "text": [
            "Enter the Stringhello soted dictionary\n",
            "printing count of the character in sorted order of character\n",
            "   :  2\n",
            "a  :  1\n",
            "c  :  1\n",
            "d  :  2\n",
            "e  :  2\n",
            "h  :  1\n",
            "i  :  2\n",
            "l  :  2\n",
            "n  :  1\n",
            "o  :  3\n",
            "r  :  1\n",
            "s  :  1\n",
            "t  :  2\n",
            "y  :  1\n"
          ]
        }
      ]
    },
    {
      "cell_type": "markdown",
      "source": [
        "## 4) sort an Array Containing as 1s and 2s"
      ],
      "metadata": {
        "id": "0LVEudq2bcGw"
      }
    },
    {
      "cell_type": "code",
      "source": [
        "def SortOnesAndTwos(arr):\n",
        "  one_array=[]\n",
        "  two_array=[]\n",
        "  for i in arr:\n",
        "    if i==1:\n",
        "      one_array.append(i)\n",
        "    else :\n",
        "      two_array.append(i)\n",
        "  return (one_array+two_array)\n",
        "\n",
        "arr=[1,2,1,2,2,1]\n",
        "print(\"Original array :\",arr)\n",
        "\n",
        "print(\"Sorted array: \",SortOnesAndTwos(arr))\n",
        "\n",
        "# Disadvantage of this technique is time and space complexity of this code is :O(N)"
      ],
      "metadata": {
        "colab": {
          "base_uri": "https://localhost:8080/"
        },
        "id": "X3ECwfw4biA9",
        "outputId": "6da5b360-dfa2-4362-c5b9-984bbe3b4694"
      },
      "execution_count": null,
      "outputs": [
        {
          "output_type": "stream",
          "name": "stdout",
          "text": [
            "Original array : [1, 2, 1, 2, 2, 1]\n",
            "Sorted array:  [1, 1, 1, 2, 2, 2]\n"
          ]
        }
      ]
    },
    {
      "cell_type": "markdown",
      "source": [
        "## 5) Maximum sum in sub array (Kadanes Algorithm)\n"
      ],
      "metadata": {
        "id": "-pPr_bj_e0N5"
      }
    },
    {
      "cell_type": "code",
      "source": [
        "def maximumSumInsubarray(arr):\n",
        "  max_sum_global=arr[0]\n",
        "  max_sum_local=arr[0]\n",
        "  for num in range(1,len(arr)):\n",
        "   max_sum_local +=arr[num]\n",
        "   if max_sum_local>max_sum_global:\n",
        "    max_sum_global=max_sum_local\n",
        "   if max_sum_local<0:\n",
        "    max_sum_local=0\n",
        "  return max_sum_global\n",
        "\n",
        "\n",
        "\n",
        "maximumSumInsubarray([1,2,3,-1,-2])\n"
      ],
      "metadata": {
        "id": "TDVkQSRde7ws",
        "colab": {
          "base_uri": "https://localhost:8080/"
        },
        "outputId": "36540c05-15db-4b1f-fc19-20651f8f1c96"
      },
      "execution_count": null,
      "outputs": [
        {
          "output_type": "execute_result",
          "data": {
            "text/plain": [
              "6"
            ]
          },
          "metadata": {},
          "execution_count": 8
        }
      ]
    },
    {
      "cell_type": "code",
      "source": [
        "# Another apprach to solve this is\n",
        "\n",
        "def Max_Sumof(arr):\n",
        "  max_sumGlobal=max_sum_local=arr[0]\n",
        "  for num in arr[1:]:\n",
        "    max_sum_local=max(num,(max_sum_local+num))\n",
        "    max_sumGlobal=max(max_sumGlobal,max_sum_local)\n",
        "  return max_sumGlobal\n",
        "\n",
        "\n",
        "Max_Sumof([1,2,3,-1,-2])\n"
      ],
      "metadata": {
        "colab": {
          "base_uri": "https://localhost:8080/"
        },
        "id": "bxAJf4FfpxOY",
        "outputId": "2ea484bc-aacb-4900-f862-89c2f9f93344"
      },
      "execution_count": null,
      "outputs": [
        {
          "output_type": "execute_result",
          "data": {
            "text/plain": [
              "6"
            ]
          },
          "metadata": {},
          "execution_count": 10
        }
      ]
    },
    {
      "cell_type": "markdown",
      "source": [
        " ### 6) Find the number in the array that has occure once and every other elemnet is occure twice"
      ],
      "metadata": {
        "id": "sDDfbBykzWiS"
      }
    },
    {
      "cell_type": "code",
      "source": [
        "def findthelemnet(arr):\n",
        "  for num in arr:\n",
        "    if arr.count(num)==1:\n",
        "      return num\n",
        "\n",
        "list1=[1,2,3,4,1,2,3,4,5]\n",
        "findthelemnet(list1)"
      ],
      "metadata": {
        "colab": {
          "base_uri": "https://localhost:8080/"
        },
        "id": "-wFric8iwxAE",
        "outputId": "d1163d42-380f-403f-d5d6-0b4d734e84be"
      },
      "execution_count": null,
      "outputs": [
        {
          "output_type": "execute_result",
          "data": {
            "text/plain": [
              "5"
            ]
          },
          "metadata": {},
          "execution_count": 11
        }
      ]
    },
    {
      "cell_type": "markdown",
      "source": [
        "### 7.Loop in linked list || Find the Middle of the list"
      ],
      "metadata": {
        "id": "-XFuda630WF-"
      }
    },
    {
      "cell_type": "code",
      "source": [
        "class Node:\n",
        "  def __init__(self,data):\n",
        "    self.data=data\n",
        "    self.next=None\n",
        "class LinkedList:\n",
        "  def __init__(self):\n",
        "    self.head=None\n",
        "  def InsertNodeAtBeggining(self,data):\n",
        "    new_node=Node(data)\n",
        "    new_node.next=self.head\n",
        "    self.head=new_node\n",
        "  def InsertNodeAtEnd(self,Data):\n",
        "    new_node=Node(Data)\n",
        "    if self.head is None:\n",
        "      self.head=new_node\n",
        "      return\n",
        "    current=self.head\n",
        "    while current.next:\n",
        "      current=current.next\n",
        "    current.next=new_node\n",
        "    return\n",
        "  def TraverseLinkedList(self):\n",
        "    current=self.head\n",
        "    while current is not None:\n",
        "      print(current.data,end=\"->\")\n",
        "      current=current.next\n",
        "    print()\n",
        "\n",
        "  def FindMiddleNode(self):\n",
        "    slow=fast=self.head\n",
        "    while fast and fast.next:\n",
        "      slow=slow.next\n",
        "      fast=fast.next.next\n",
        "    return slow.data\n",
        "  def reversedLlinkedlist(self):\n",
        "    stack=[]\n",
        "    current=self.head\n",
        "    while current:\n",
        "      stack.append(current.data)\n",
        "      current=current.next\n",
        "    for i in range(len(stack),-1,-1):\n",
        "      print(i,\"->\",end=\" \")\n",
        "  def reversedLInkedlistWithout_stack(self):\n",
        "    prev =None\n",
        "    current=self.head\n",
        "    while current:\n",
        "      next_node=current.next\n",
        "      current.next=prev\n",
        "      prev=current\n",
        "      current=next_node\n",
        "    self.head=prev\n",
        "    return\n",
        "\n",
        "\n",
        "\n",
        "linkedlist1=LinkedList()\n",
        "\n",
        "print(\"Inserting eleent into the data\")\n",
        "\n",
        "linkedlist1.InsertNodeAtBeggining(10)\n",
        "linkedlist1.InsertNodeAtBeggining(20)\n",
        "linkedlist1.InsertNodeAtBeggining(30)\n",
        "linkedlist1.InsertNodeAtBeggining(40)\n",
        "linkedlist1.InsertNodeAtBeggining(50)\n",
        "\n",
        "print(\"Linked List Traversing :\")\n",
        "\n",
        "linkedlist1.TraverseLinkedList()\n",
        "\n",
        "linkedlist1.InsertNodeAtEnd(60)\n",
        "\n",
        "print(\"Linked list after the Inserting node at the end :\")\n",
        "linkedlist1.InsertNodeAtEnd(70)\n",
        "\n",
        "\n",
        "linkedlist1.TraverseLinkedList()\n",
        "\n",
        "print(\"Middle Node of the linkedlist: \" ,linkedlist1.FindMiddleNode())\n",
        "\n",
        "\n",
        "print(\"Reverse Linked List is : \")\n",
        "\n",
        "# linkedlist1.reversedLlinkedlist()\n",
        "\n",
        "linkedlist1.reversedLInkedlistWithout_stack()\n",
        "linkedlist1.TraverseLinkedList()\n",
        "\n",
        "\n"
      ],
      "metadata": {
        "id": "nDApnZMB0pfD",
        "colab": {
          "base_uri": "https://localhost:8080/"
        },
        "outputId": "61c440f5-d573-4038-a47a-954660085852"
      },
      "execution_count": null,
      "outputs": [
        {
          "output_type": "stream",
          "name": "stdout",
          "text": [
            "Inserting eleent into the data\n",
            "Linked List Traversing :\n",
            "50->40->30->20->10->\n",
            "Linked list after the Inserting node at the end :\n",
            "50->40->30->20->10->60->70->\n",
            "Middle Node of the linkedlist:  20\n",
            "Reverse Linked List is : \n",
            "70->60->10->20->30->40->50->\n"
          ]
        }
      ]
    },
    {
      "cell_type": "markdown",
      "source": [
        "## 8) How to find the  next greater element in array"
      ],
      "metadata": {
        "id": "ESuUkUZlRNBg"
      }
    },
    {
      "cell_type": "code",
      "source": [
        "def nextGreaterElement(arr):\n",
        "  result=[-1]*len(arr)\n",
        "  for i in range(0,len(arr)):\n",
        "    for j in range(i+1,len(arr)):\n",
        "      if arr[i]<arr[j]:\n",
        "        result[i]=arr[j]\n",
        "        break\n",
        "  return result\n",
        "\n",
        "\n",
        "arr=[1,2,3,4,5]\n",
        "result=nextGreaterElement(arr)\n",
        "print(\"Next greater elemnet of the array is : \",result)\n"
      ],
      "metadata": {
        "colab": {
          "base_uri": "https://localhost:8080/"
        },
        "id": "ApRllidJRV5t",
        "outputId": "8a7a83c3-d763-463a-ab64-48a583958890"
      },
      "execution_count": null,
      "outputs": [
        {
          "output_type": "stream",
          "name": "stdout",
          "text": [
            "Next greater elemnet of the array is :  [2, 3, 4, 5, -1]\n"
          ]
        }
      ]
    },
    {
      "cell_type": "markdown",
      "source": [
        "### 9) reverse word in the string\n",
        "\n"
      ],
      "metadata": {
        "id": "LLsCxoeoUiPm"
      }
    },
    {
      "cell_type": "code",
      "source": [
        "def reverse_words(sentence):\n",
        "  word=sentence.split()\n",
        "  reversed_word=word[::-1]\n",
        "  word=\" \".join(reversed_word)\n",
        "  return word\n",
        "\n",
        "\n",
        "reverse_words(\"Hello welcome to the page \")\n"
      ],
      "metadata": {
        "colab": {
          "base_uri": "https://localhost:8080/",
          "height": 36
        },
        "id": "WLrgtFDaUmTo",
        "outputId": "e883630a-7a89-434d-92d8-2183779df723"
      },
      "execution_count": null,
      "outputs": [
        {
          "output_type": "execute_result",
          "data": {
            "text/plain": [
              "'page the to welcome Hello'"
            ],
            "application/vnd.google.colaboratory.intrinsic+json": {
              "type": "string"
            }
          },
          "metadata": {},
          "execution_count": 29
        }
      ]
    },
    {
      "cell_type": "markdown",
      "source": [
        "## 10) print the fibbonasis series of the n numbers"
      ],
      "metadata": {
        "id": "JTh-lrkhVgFJ"
      }
    },
    {
      "cell_type": "code",
      "source": [
        "def Fibbonasis_series(n):\n",
        "  fibbonasis=[0,1]\n",
        "  if n<=0:\n",
        "    return 0\n",
        "  elif  n==1 :\n",
        "    return 1\n",
        "\n",
        "  else :\n",
        "    return Fibbonasis_series(n-1)+Fibbonasis_series(n-2)\n",
        "\n",
        "\n",
        "n=int(input(\"Enter Number where you wanrt to print the Fibbonasis Series :\"))\n",
        "\n",
        "fiibio=[Fibbonasis_series(i) for i in range(n+1) ]\n",
        "\n",
        "print(fiibio)\n",
        "\n"
      ],
      "metadata": {
        "colab": {
          "base_uri": "https://localhost:8080/"
        },
        "id": "G_H__suoVoLB",
        "outputId": "d487745e-aa94-4788-d4e7-9555485732ba"
      },
      "execution_count": null,
      "outputs": [
        {
          "output_type": "stream",
          "name": "stdout",
          "text": [
            "Enter Number where you wanrt to print the Fibbonasis Series :10\n",
            "[0, 1, 1, 2, 3, 5, 8, 13, 21, 34, 55]\n"
          ]
        }
      ]
    },
    {
      "cell_type": "markdown",
      "source": [
        "###11)  Write a program to find number is Armstrong or not"
      ],
      "metadata": {
        "id": "YwLXni28dqHM"
      }
    },
    {
      "cell_type": "code",
      "source": [
        "def isArmstrrong(num):\n",
        "  original_num=num\n",
        "  sum=0\n",
        "  count=len(str(num))\n",
        "  while num>0:\n",
        "    digit=num%10\n",
        "    sum+=digit**count\n",
        "    num=num//10\n",
        "\n",
        "  return original_num==sum\n",
        "\n",
        "\n",
        "\n",
        "num=int(input(\"Enter the number\"))\n",
        "if isArmstrrong(num):\n",
        "  print(f\"{num} is Armstrong Number\")\n",
        "else :\n",
        "  print(f\"{num} is not Armstrong Number\")\n"
      ],
      "metadata": {
        "colab": {
          "base_uri": "https://localhost:8080/"
        },
        "id": "RCktLrReduE7",
        "outputId": "86bbb475-8932-4cb1-e9ca-c90aa4340507"
      },
      "execution_count": null,
      "outputs": [
        {
          "output_type": "stream",
          "name": "stdout",
          "text": [
            "Enter the number153\n",
            "153 is Armstrong Number\n"
          ]
        }
      ]
    },
    {
      "cell_type": "markdown",
      "source": [
        "## 12) swap two variables without using third Variable"
      ],
      "metadata": {
        "id": "9zZdvzaUg6sa"
      }
    },
    {
      "cell_type": "code",
      "source": [
        "def Swapvariable(num1,num2):\n",
        "\n",
        "  # This operator perform Bitwise\n",
        "  num1=num1^num2\n",
        "  num2=num1^num2\n",
        "  num1=num1^num2\n",
        "  return num1,num2\n",
        "\n",
        "num1=int(input(\"Enter the first number\"))\n",
        "num2=int(input(\"Enter the second number\"))\n",
        "\n",
        "\n",
        "\n",
        "print(f\"number before swapping num1:{num1} ,num2:{num2}\")\n",
        "\n",
        "num1,num2=Swapvariable(num1,num2)\n",
        "print(f\"Number after Swaping num1:{num1},num2:{num2}\")"
      ],
      "metadata": {
        "colab": {
          "base_uri": "https://localhost:8080/"
        },
        "id": "-CyPUbfahBNI",
        "outputId": "468ac67b-85ca-4f60-fe44-e02b6399976e"
      },
      "execution_count": null,
      "outputs": [
        {
          "output_type": "stream",
          "name": "stdout",
          "text": [
            "Enter the first number12\n",
            "Enter the second number51\n",
            "number before swapping num1:12 ,num2:51\n",
            "Number after Swaping num1:51,num2:12\n"
          ]
        }
      ]
    },
    {
      "cell_type": "markdown",
      "source": [
        "## 13. Write a program ton print the factorial of the number"
      ],
      "metadata": {
        "id": "4h5L4AF6iVg2"
      }
    },
    {
      "cell_type": "code",
      "source": [
        "def Factorial(num):\n",
        "  if num==0 or num==1:\n",
        "    return 1\n",
        "  else:\n",
        "      # call the factorial function agian and again baese condition is not occur\n",
        "    return num*Factorial(num-1)\n",
        "\n",
        "num=int(input(\"Enter the number\"))\n",
        "print(f\"Factorial of given NUmber:{num} is :\",Factorial(num))"
      ],
      "metadata": {
        "colab": {
          "base_uri": "https://localhost:8080/"
        },
        "id": "0-pz6nHkHVIU",
        "outputId": "02f54140-9551-4965-f555-9a1ac656b00b"
      },
      "execution_count": null,
      "outputs": [
        {
          "output_type": "stream",
          "name": "stdout",
          "text": [
            "Enter the number5\n",
            "Factorial of given NUmber:5is : 120\n"
          ]
        }
      ]
    },
    {
      "cell_type": "markdown",
      "source": [
        "### 13)  Write a program to reverse an array"
      ],
      "metadata": {
        "id": "yvyGovskJPJZ"
      }
    },
    {
      "cell_type": "code",
      "source": [
        "def reversearray(arr):\n",
        "  origial_array=arr\n",
        "  start=0\n",
        "  end=len(arr)-1\n",
        "  while start<end:\n",
        "    arr[start],arr[end]=arr[end],arr[start]\n",
        "    start+=1\n",
        "    end-=1\n",
        "  return arr\n",
        "\n",
        "reverse=[1,2,3,4,5]\n",
        "print(\"Enter array is :\",reverse)\n",
        "print(\"Reverse Array is :\",reversearray(reverse))\n",
        "\n"
      ],
      "metadata": {
        "colab": {
          "base_uri": "https://localhost:8080/"
        },
        "id": "WFjtHD5AJu9B",
        "outputId": "71e18856-26ec-47af-ad25-449c58f8f218"
      },
      "execution_count": null,
      "outputs": [
        {
          "output_type": "stream",
          "name": "stdout",
          "text": [
            "Enter array is : [1, 2, 3, 4, 5]\n",
            "Reverse Array is : [5, 4, 3, 2, 1]\n"
          ]
        }
      ]
    },
    {
      "cell_type": "markdown",
      "source": [
        "###14) Write a proograme to find whether number is prime or not"
      ],
      "metadata": {
        "id": "wYqu4-m_N1dH"
      }
    },
    {
      "cell_type": "code",
      "source": [
        "def isPrime(num):\n",
        "  if num<=1 or num==0:\n",
        "    return False\n",
        "  else :\n",
        "    for i in range(2,num//2):\n",
        "      if num%i==0:\n",
        "        return False\n",
        "\n",
        "  return True\n",
        "\n",
        "num=int(input(\"Enter any number\"))\n",
        "if isPrime(num):\n",
        "  print(f\"Number {num} is Prime Number\")\n",
        "else:\n",
        "  print(f\"Number {num} is not Prime number\")\n"
      ],
      "metadata": {
        "colab": {
          "base_uri": "https://localhost:8080/"
        },
        "id": "qaXVhjopN9HB",
        "outputId": "557fa64d-e3b9-48be-daa7-7011f97ea7c4"
      },
      "execution_count": null,
      "outputs": [
        {
          "output_type": "stream",
          "name": "stdout",
          "text": [
            "Enter any number104729\n",
            "Number 104729 is Prime Number\n"
          ]
        }
      ]
    },
    {
      "cell_type": "markdown",
      "source": [
        "### 15) write a programe to find the square root of the number\n",
        "\n"
      ],
      "metadata": {
        "id": "WkLyokIiRv5O"
      }
    },
    {
      "cell_type": "code",
      "source": [
        "def findsquarerrot(num):\n",
        "  if num<0:\n",
        "    return \"Invalid Number\"\n",
        "  else :\n",
        "    return (num**0.5)\n",
        "print(\"Printing the square root of the number by using Exponential operator \")\n",
        "num=int(input(\"Enter the NUmber\"))\n",
        "print(f\"Square root of the number {num} is :\",findsquarerrot(num))\n",
        "\n",
        "\n",
        "# By using Build in Library\n",
        "\n",
        "import math\n",
        "def FindSQuareRootByLibrary(num):\n",
        "  return math.sqrt(num)"
      ],
      "metadata": {
        "colab": {
          "base_uri": "https://localhost:8080/"
        },
        "id": "Oa2neaUIRzxj",
        "outputId": "a8723e53-cc0e-483b-dcad-7ee83a995504"
      },
      "execution_count": null,
      "outputs": [
        {
          "output_type": "stream",
          "name": "stdout",
          "text": [
            "Enter the NUmber4\n",
            "Square root of the number 4 is : 2.0\n"
          ]
        }
      ]
    },
    {
      "cell_type": "code",
      "source": [
        "# How to find next greater element\n",
        "\n",
        "def nextgreaterelement(arr):\n",
        "  result=[-1]*len(arr)\n",
        "  for i in range(len(arr)):\n",
        "    for j in range (i+1,len(arr)):\n",
        "      if result[i]<arr[j]:\n",
        "        result[i]=arr[j]\n",
        "        break\n",
        "  return result\n",
        "\n",
        "arr=[1,2,3,4,5]\n",
        "nextgreaterelement(arr)"
      ],
      "metadata": {
        "id": "F4pORE-XSinI",
        "colab": {
          "base_uri": "https://localhost:8080/"
        },
        "outputId": "c8c5ce29-d4eb-4916-f9b6-e5a50e7ec04f"
      },
      "execution_count": null,
      "outputs": [
        {
          "output_type": "execute_result",
          "data": {
            "text/plain": [
              "[2, 3, 4, 5, -1]"
            ]
          },
          "metadata": {},
          "execution_count": 2
        }
      ]
    },
    {
      "cell_type": "code",
      "source": [],
      "metadata": {
        "id": "bwdSwEhtZUjB"
      },
      "execution_count": null,
      "outputs": []
    }
  ]
}